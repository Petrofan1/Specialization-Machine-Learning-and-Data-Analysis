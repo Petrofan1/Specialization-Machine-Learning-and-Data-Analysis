{
 "cells": [
  {
   "cell_type": "code",
   "execution_count": 241,
   "metadata": {},
   "outputs": [],
   "source": [
    "import numpy\n",
    "import scipy.spatial as spat\n",
    "import matplotlib\n",
    "import pandas\n",
    "import re"
   ]
  },
  {
   "cell_type": "code",
   "execution_count": 238,
   "metadata": {},
   "outputs": [],
   "source": [
    "def f():\n",
    "    with open('sentences.txt', 'r') as file:\n",
    "        lines = file.readlines()\n",
    "    lines = [x.lower() for x in lines]\n",
    "    lines_tokenized = [re.split('[^a-z]', x) for x in lines]\n",
    "    lines_tokenized_upd = [[x for x in line if x] for line in lines_tokenized]\n",
    "    words = []\n",
    "    for line in lines_tokenized_upd:\n",
    "        for word in line:\n",
    "                words.append(word)\n",
    "    dic = {}\n",
    "    id = 0\n",
    "    for word in words:\n",
    "        if word not in dic:\n",
    "            dic[word] = id\n",
    "            id = id + 1\n",
    "    n = len(lines_tokenized_upd)\n",
    "    d = len(dic)\n",
    "    matrix = numpy.zeros((n, d))\n",
    "    for i in range(n):\n",
    "        for word in dic:\n",
    "            for w in lines_tokenized_upd[i]:\n",
    "                if w == word:\n",
    "                    matrix[i, dic[word]] = matrix[i , dic[word]] + 1\n",
    "    arr = numpy.ones((n, ))\n",
    "    for i in range(1, n):\n",
    "        arr[i] = spat.distance.cosine(matrix[0], matrix[i])\n",
    "    max1 = numpy.argmin(arr)\n",
    "    arr[max1] = 1.0\n",
    "    max2 = numpy.argmin(arr)\n",
    "    with open('submission-1.txt', 'w') as file:\n",
    "        file.write(str(max1) + \" \" + str(max2))"
   ]
  },
  {
   "cell_type": "code",
   "execution_count": 239,
   "metadata": {},
   "outputs": [
    {
     "name": "stdout",
     "output_type": "stream",
     "text": [
      "6.24 ms ± 801 µs per loop (mean ± std. dev. of 7 runs, 100 loops each)\n"
     ]
    }
   ],
   "source": [
    "%timeit f()"
   ]
  }
 ],
 "metadata": {
  "kernelspec": {
   "display_name": "Python 3",
   "language": "python",
   "name": "python3"
  },
  "language_info": {
   "codemirror_mode": {
    "name": "ipython",
    "version": 3
   },
   "file_extension": ".py",
   "mimetype": "text/x-python",
   "name": "python",
   "nbconvert_exporter": "python",
   "pygments_lexer": "ipython3",
   "version": "3.7.6"
  }
 },
 "nbformat": 4,
 "nbformat_minor": 4
}
