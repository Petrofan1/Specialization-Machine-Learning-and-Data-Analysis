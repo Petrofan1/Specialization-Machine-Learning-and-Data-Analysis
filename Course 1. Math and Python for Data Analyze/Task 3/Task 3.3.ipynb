{
 "cells": [
  {
   "cell_type": "code",
   "execution_count": 1,
   "metadata": {},
   "outputs": [],
   "source": [
    "import numpy as np\n",
    "import pandas as pd\n",
    "import matplotlib.pyplot as plt\n",
    "import scipy.optimize as opt"
   ]
  },
  {
   "cell_type": "code",
   "execution_count": 56,
   "metadata": {},
   "outputs": [],
   "source": [
    "def f(x):\n",
    "    return int(np.sin(x / 5.) * np.exp(x / 10.) + 5. * np.exp(-x / 2.))"
   ]
  },
  {
   "cell_type": "code",
   "execution_count": 81,
   "metadata": {},
   "outputs": [
    {
     "name": "stdout",
     "output_type": "stream",
     "text": [
      "30.0 25.366350592847624\n"
     ]
    }
   ],
   "source": [
    "obj_1 = opt.minimize(f, 30, method=\"BFGS\")\n",
    "obj_2 = opt.differential_evolution(f, [(1, 30)])\n",
    "print(obj_1.x[0], obj_2.x[0])"
   ]
  },
  {
   "cell_type": "code",
   "execution_count": 62,
   "metadata": {},
   "outputs": [],
   "source": [
    "x = np.arange(1, 32.1, 0.1)\n",
    "g = np.vectorize(f)\n",
    "y_func = g(x)"
   ]
  },
  {
   "cell_type": "code",
   "execution_count": 63,
   "metadata": {},
   "outputs": [
    {
     "data": {
      "image/png": "[encoded data removed]",
      "text/plain": [
       "<Figure size 432x288 with 1 Axes>"
      ]
     },
     "metadata": {
      "needs_background": "light"
     },
     "output_type": "display_data"
    }
   ],
   "source": [
    "plt.plot(x, y_func, \"-\", obj_1.x, h(obj_1.x), \"o\", obj_2.x, h(obj_2.x), \"o\")\n",
    "plt.show()"
   ]
  },
  {
   "cell_type": "code",
   "execution_count": 82,
   "metadata": {},
   "outputs": [],
   "source": [
    "with open(\"answer-3.txt\", 'w') as file_1:\n",
    "    file_1.write(str(f(obj_1.x[0])) + \" \" + str(f(obj_2.x[0])))"
   ]
  }
 ],
 "metadata": {
  "kernelspec": {
   "display_name": "Python 3",
   "language": "python",
   "name": "python3"
  },
  "language_info": {
   "codemirror_mode": {
    "name": "ipython",
    "version": 3
   },
   "file_extension": ".py",
   "mimetype": "text/x-python",
   "name": "python",
   "nbconvert_exporter": "python",
   "pygments_lexer": "ipython3",
   "version": "3.7.6"
  }
 },
 "nbformat": 4,
 "nbformat_minor": 4
}
