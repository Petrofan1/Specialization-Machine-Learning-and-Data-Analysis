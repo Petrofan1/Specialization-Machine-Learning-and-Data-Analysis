{
 "cells": [
  {
   "cell_type": "code",
   "execution_count": 24,
   "metadata": {},
   "outputs": [],
   "source": [
    "import pandas as pd\n",
    "import numpy as np\n",
    "import matplotlib\n",
    "from matplotlib import pyplot as plt\n",
    "from sklearn import datasets\n",
    "from sklearn.tree import DecisionTreeClassifier\n",
    "from sklearn.model_selection import cross_val_score"
   ]
  },
  {
   "cell_type": "code",
   "execution_count": 8,
   "metadata": {},
   "outputs": [],
   "source": [
    "digits = datasets.load_digits()"
   ]
  },
  {
   "cell_type": "code",
   "execution_count": 10,
   "metadata": {},
   "outputs": [],
   "source": [
    "X = digits.data\n",
    "y = digits.target"
   ]
  },
  {
   "cell_type": "code",
   "execution_count": 16,
   "metadata": {},
   "outputs": [
    {
     "data": {
      "text/plain": [
       "(1797, 64)"
      ]
     },
     "execution_count": 16,
     "metadata": {},
     "output_type": "execute_result"
    }
   ],
   "source": [
    "X.shape"
   ]
  },
  {
   "cell_type": "code",
   "execution_count": 32,
   "metadata": {},
   "outputs": [],
   "source": [
    "clf_1 = DecisionTreeClassifier()"
   ]
  },
  {
   "cell_type": "code",
   "execution_count": 33,
   "metadata": {},
   "outputs": [
    {
     "name": "stdout",
     "output_type": "stream",
     "text": [
      "0.828032278088144\n"
     ]
    }
   ],
   "source": [
    "clf_mean_1 = cross_val_score(clf_1, X, y, cv=10).mean()\n",
    "print(clf_mean_1)"
   ]
  },
  {
   "cell_type": "code",
   "execution_count": 34,
   "metadata": {},
   "outputs": [],
   "source": [
    "def write_answer(answer, num):\n",
    "    with open(\"ans_\" + str(num) + \".txt\", \"w\") as fw:\n",
    "        fw.write(str(answer))"
   ]
  },
  {
   "cell_type": "code",
   "execution_count": 35,
   "metadata": {},
   "outputs": [],
   "source": [
    "write_answer(clf_mean_1, 1)"
   ]
  },
  {
   "cell_type": "code",
   "execution_count": 41,
   "metadata": {},
   "outputs": [],
   "source": [
    "from sklearn.ensemble import BaggingClassifier\n",
    "clf_2 = BaggingClassifier(n_estimators=100)\n",
    "clf_mean_2 = cross_val_score(clf_2, X, y, cv=10).mean()"
   ]
  },
  {
   "cell_type": "code",
   "execution_count": 52,
   "metadata": {},
   "outputs": [],
   "source": [
    "write_answer(clf_mean_2, 2)"
   ]
  },
  {
   "cell_type": "code",
   "execution_count": 44,
   "metadata": {},
   "outputs": [
    {
     "name": "stdout",
     "output_type": "stream",
     "text": [
      "0.9265052762259467\n",
      "64\n"
     ]
    }
   ],
   "source": [
    "print(clf_mean_2)\n",
    "d = X.shape[1]\n",
    "print(d)"
   ]
  },
  {
   "cell_type": "code",
   "execution_count": 66,
   "metadata": {},
   "outputs": [],
   "source": [
    "clf_3 = BaggingClassifier(clf_1, max_features=np.sqrt(d)/d, n_estimators=100)\n",
    "clf_mean_3 = cross_val_score(clf_3, X, y, cv=10).mean()"
   ]
  },
  {
   "cell_type": "code",
   "execution_count": 67,
   "metadata": {},
   "outputs": [
    {
     "name": "stdout",
     "output_type": "stream",
     "text": [
      "0.9320980757293608\n"
     ]
    }
   ],
   "source": [
    "print(clf_mean_3)\n",
    "write_answer(clf_mean_3, 3)"
   ]
  },
  {
   "cell_type": "code",
   "execution_count": 68,
   "metadata": {},
   "outputs": [
    {
     "name": "stdout",
     "output_type": "stream",
     "text": [
      "0.9454593420235877\n"
     ]
    }
   ],
   "source": [
    "estimator = DecisionTreeClassifier(max_features='sqrt')\n",
    "clf_4 = BaggingClassifier(estimator, n_estimators=100)\n",
    "clf_mean_4 = cross_val_score(clf_4, X, y, cv=10).mean()\n",
    "print(clf_mean_4)\n",
    "write_answer(clf_mean_4, 4)"
   ]
  },
  {
   "cell_type": "code",
   "execution_count": 75,
   "metadata": {},
   "outputs": [
    {
     "name": "stdout",
     "output_type": "stream",
     "text": [
      "0.9499068901303538\n"
     ]
    }
   ],
   "source": [
    "from sklearn.ensemble import RandomForestClassifier\n",
    "clf_5 = RandomForestClassifier(max_features='sqrt', n_estimators=100)\n",
    "clf_mean_5 = cross_val_score(clf_5, X, y, cv=10).mean()\n",
    "print(clf_mean_5)"
   ]
  },
  {
   "cell_type": "code",
   "execution_count": 80,
   "metadata": {},
   "outputs": [
    {
     "name": "stdout",
     "output_type": "stream",
     "text": [
      "[  5.  10.  15.  20.  25.  30.  35.  40.  45.  50.  55.  60.  65.  70.\n",
      "  75.  80.  85.  90.  95. 100.]\n"
     ]
    }
   ],
   "source": [
    "num_est = np.linspace(5, 100, 20)\n",
    "print(num_est)\n",
    "num_estim = []\n",
    "for num in num_est:\n",
    "    clf_5 = RandomForestClassifier(max_features='sqrt', n_estimators=int(num))\n",
    "    clf_mean_5 = cross_val_score(clf_5, X, y, cv=5).mean()\n",
    "    num_estim.append(clf_mean_5)"
   ]
  },
  {
   "cell_type": "code",
   "execution_count": 81,
   "metadata": {},
   "outputs": [
    {
     "name": "stdout",
     "output_type": "stream",
     "text": [
      "[0.8592386258124419, 0.8993144537294956, 0.9193268337975858, 0.9221200866604766, 0.926580006190034, 0.932689569792634, 0.9376957598266792, 0.9410352831940576, 0.9376880222841226, 0.9393593314763231, 0.9326880222841225, 0.9371402042711235, 0.9349148870318787, 0.9376926648096564, 0.9426926648096565, 0.9360259981429898, 0.9349009594552771, 0.9365722686474776, 0.9388022284122564, 0.9365861962240792]\n"
     ]
    }
   ],
   "source": [
    "print(num_estim)"
   ]
  },
  {
   "cell_type": "code",
   "execution_count": 97,
   "metadata": {},
   "outputs": [
    {
     "name": "stdout",
     "output_type": "stream",
     "text": [
      "[ 1  6 11 16 21 26 31 36 41 46 51 56 61]\n"
     ]
    }
   ],
   "source": [
    "num_feat = np.arange(1, d, 5)\n",
    "print(num_feat)\n",
    "num_features = []\n",
    "for num in num_feat:\n",
    "    clf_5 = RandomForestClassifier(max_features=num, n_estimators=100)\n",
    "    clf_mean_5 = cross_val_score(clf_5, X, y, cv=5).mean()\n",
    "    num_features.append(clf_mean_5)"
   ]
  },
  {
   "cell_type": "code",
   "execution_count": 98,
   "metadata": {},
   "outputs": [
    {
     "name": "stdout",
     "output_type": "stream",
     "text": [
      "[0.93545341999381, 0.9410306406685237, 0.936027545651501, 0.9326849272671002, 0.9304534199938098, 0.9243330238316311, 0.9282281027545652, 0.9193299288146084, 0.9193330238316311, 0.920437944908697, 0.9154317548746518, 0.9148823893531415, 0.9070813989476942]\n"
     ]
    }
   ],
   "source": [
    "print(num_features)"
   ]
  },
  {
   "cell_type": "code",
   "execution_count": 99,
   "metadata": {},
   "outputs": [
    {
     "name": "stdout",
     "output_type": "stream",
     "text": [
      "[ 1  6 11 16 21 26]\n"
     ]
    }
   ],
   "source": [
    "num_dep = np.arange(1, 30, 5)\n",
    "print(num_dep)\n",
    "num_depths = []\n",
    "for num in num_dep:\n",
    "    clf_5 = RandomForestClassifier(n_estimators=100, max_depth=num)\n",
    "    clf_mean_5 = cross_val_score(clf_5, X, y, cv=5).mean()\n",
    "    num_depths.append(clf_mean_5)"
   ]
  },
  {
   "cell_type": "code",
   "execution_count": 100,
   "metadata": {},
   "outputs": [
    {
     "name": "stdout",
     "output_type": "stream",
     "text": [
      "[0.6861606313834727, 0.9070984215413185, 0.9404781801299906, 0.936027545651501, 0.9326849272671, 0.9382513153822346]\n"
     ]
    }
   ],
   "source": [
    "print(num_depths)"
   ]
  },
  {
   "cell_type": "code",
   "execution_count": 102,
   "metadata": {},
   "outputs": [],
   "source": [
    "write_answer(str(2) + \" \" + str(3) + \" \" + str(4) + \" \" + str(7),  5)"
   ]
  },
  {
   "cell_type": "code",
   "execution_count": null,
   "metadata": {},
   "outputs": [],
   "source": []
  }
 ],
 "metadata": {
  "kernelspec": {
   "display_name": "Python 3",
   "language": "python",
   "name": "python3"
  },
  "language_info": {
   "codemirror_mode": {
    "name": "ipython",
    "version": 3
   },
   "file_extension": ".py",
   "mimetype": "text/x-python",
   "name": "python",
   "nbconvert_exporter": "python",
   "pygments_lexer": "ipython3",
   "version": "3.7.6"
  }
 },
 "nbformat": 4,
 "nbformat_minor": 4
}
