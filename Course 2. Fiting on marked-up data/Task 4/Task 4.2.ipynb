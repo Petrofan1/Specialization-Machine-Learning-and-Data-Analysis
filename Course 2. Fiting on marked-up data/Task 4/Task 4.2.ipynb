{
 "cells": [
  {
   "cell_type": "code",
   "execution_count": 1,
   "metadata": {},
   "outputs": [],
   "source": [
    "import pandas as pd\n",
    "import numpy as np\n",
    "from sklearn import datasets"
   ]
  },
  {
   "cell_type": "code",
   "execution_count": 2,
   "metadata": {},
   "outputs": [],
   "source": [
    "data = datasets.load_boston()\n",
    "X = data.data\n",
    "y = data.target"
   ]
  },
  {
   "cell_type": "code",
   "execution_count": 36,
   "metadata": {},
   "outputs": [],
   "source": [
    "from sklearn.model_selection import train_test_split\n",
    "X_train, X_test, y_train, y_test = train_test_split(X, y, shuffle=False, test_size=0.25)"
   ]
  },
  {
   "cell_type": "code",
   "execution_count": 47,
   "metadata": {},
   "outputs": [],
   "source": [
    "def loss(y, z):\n",
    "    return (y - z) ** 2\n",
    "def loss_der_modified(y, z):\n",
    "    return -1*(y - z)\n",
    "def antigrad(y, z):\n",
    "    return y - z"
   ]
  },
  {
   "cell_type": "code",
   "execution_count": 48,
   "metadata": {},
   "outputs": [],
   "source": [
    "def gbm_predict(X):\n",
    "    return [sum([coeff * algo.predict([x])[0] for algo, coeff in zip(trees, coeffs)]) for x in X]"
   ]
  },
  {
   "cell_type": "code",
   "execution_count": 54,
   "metadata": {},
   "outputs": [],
   "source": [
    "from sklearn.tree import DecisionTreeRegressor\n",
    "trees = []\n",
    "coeffs = []\n",
    "current_y = y_train\n",
    "for i in np.arange(50):\n",
    "    current_coeff = 0.9\n",
    "    coeffs.append(current_coeff)\n",
    "    current_tree = DecisionTreeRegressor(max_depth=5, random_state=42)\n",
    "    current_tree.fit(X_train, current_y)\n",
    "    trees.append(current_tree)\n",
    "    current_y = antigrad(y_train, gbm_predict(X_train))"
   ]
  },
  {
   "cell_type": "code",
   "execution_count": 55,
   "metadata": {},
   "outputs": [],
   "source": [
    "def write_answer(answer, num):\n",
    "    with open(\"answer\" + str(num) + \".txt\", \"w\") as fw:\n",
    "        fw.write(str(answer))"
   ]
  },
  {
   "cell_type": "code",
   "execution_count": 56,
   "metadata": {},
   "outputs": [
    {
     "name": "stdout",
     "output_type": "stream",
     "text": [
      "5.455565103009402\n"
     ]
    }
   ],
   "source": [
    "from sklearn.metrics import mean_squared_error\n",
    "RMSE_1 = np.sqrt(mean_squared_error(y_test, gbm_predict(X_test)))\n",
    "print(RMSE_1)"
   ]
  },
  {
   "cell_type": "code",
   "execution_count": 57,
   "metadata": {},
   "outputs": [],
   "source": [
    "write_answer(RMSE_1, 2)"
   ]
  },
  {
   "cell_type": "code",
   "execution_count": 58,
   "metadata": {},
   "outputs": [],
   "source": [
    "trees = []\n",
    "coeffs = []\n",
    "current_y = y_train\n",
    "for i in np.arange(50):\n",
    "    current_coeff = 0.9/(1 + i)\n",
    "    coeffs.append(current_coeff)\n",
    "    current_tree = DecisionTreeRegressor(max_depth=5, random_state=42)\n",
    "    current_tree.fit(X_train, current_y)\n",
    "    trees.append(current_tree)\n",
    "    current_y = antigrad(y_train, gbm_predict(X_train))"
   ]
  },
  {
   "cell_type": "code",
   "execution_count": 59,
   "metadata": {},
   "outputs": [
    {
     "name": "stdout",
     "output_type": "stream",
     "text": [
      "4.812550945781193\n"
     ]
    }
   ],
   "source": [
    "RMSE_2 = np.sqrt(mean_squared_error(y_test, gbm_predict(X_test)))\n",
    "print(RMSE_2)\n",
    "write_answer(RMSE_2, 3)"
   ]
  },
  {
   "cell_type": "code",
   "execution_count": 85,
   "metadata": {},
   "outputs": [],
   "source": [
    "from sklearn.ensemble import GradientBoostingRegressor\n",
    "iters = np.arange(10, 3000, 100)\n",
    "depths = np.arange(2, 51, 3)\n",
    "depths_results = []\n",
    "iters_results = []"
   ]
  },
  {
   "cell_type": "code",
   "execution_count": 88,
   "metadata": {},
   "outputs": [],
   "source": [
    "for it in iters:\n",
    "    model = GradientBoostingRegressor(n_estimators=it, learning_rate=0.01)\n",
    "    model.fit(X_train, y_train)\n",
    "    iters_results.append(np.sqrt(mean_squared_error(y_test, model.predict(X_test))))"
   ]
  },
  {
   "cell_type": "code",
   "execution_count": 89,
   "metadata": {},
   "outputs": [
    {
     "name": "stdout",
     "output_type": "stream",
     "text": [
      "[5.7431636871353415, 5.311915763824368, 5.20228805103377, 5.318979737839098, 5.202139243594489, 5.19061885174173, 5.179134338893995, 5.28575621254104, 5.191076765267676, 5.19645550910136, 5.278209218713519, 4.802105159008978, 4.774005637888815, 5.232948176525001, 5.402685549057301, 5.204880932521157, 5.196204114940838, 5.171260373432692, 5.179130952728364, 5.226394157362567, 5.280767009770814, 5.310465051048612, 5.155923398869424, 5.1607392200539675, 4.838789199621357, 5.460621675161659, 5.45205159888912, 5.178639742839731, 4.824368042773698, 5.442620131795749, 10.827402095640828, 7.4127267011334546, 6.192092321554503, 5.727562952418692, 5.390889430264894, 5.013941198329257, 4.86404701151674, 4.7596196406953215, 4.674442307969077, 4.645703982902233, 4.608463271516643, 4.557580813569979, 4.503156169091718, 4.498330298734472, 4.473446935652927, 4.473826171731815, 4.419882472979262, 4.436328723051601, 4.436123304447348, 4.4263479730258615, 4.395270007261006, 4.398286036827399, 4.370427239246923, 4.402439163032239, 4.3916406639451475, 4.394570148046055, 4.392285973576186, 4.400792478142525, 4.3704391644627165, 4.387042534068763]\n"
     ]
    }
   ],
   "source": [
    "print(iters_results)"
   ]
  },
  {
   "cell_type": "code",
   "execution_count": 77,
   "metadata": {},
   "outputs": [],
   "source": [
    "for depth in depths:\n",
    "    model = GradientBoostingRegressor(max_depth=depth)\n",
    "    model.fit(X_train, y_train)\n",
    "    depths_results.append(np.sqrt(mean_squared_error(y_test, model.predict(X_test))))"
   ]
  },
  {
   "cell_type": "code",
   "execution_count": 78,
   "metadata": {},
   "outputs": [
    {
     "name": "stdout",
     "output_type": "stream",
     "text": [
      "[5.018147158357345, 4.914942950195539, 5.52279376565664, 5.760550180894194, 5.594264144132336, 5.4839408120488295, 5.801492560894895, 5.595203285512259, 5.8243258260841015, 5.631476171889868, 5.735529442805163, 5.6659651070462065, 5.601194096066907, 5.775731995272557, 5.840392934406474, 5.892506192496567, 5.81040002047448]\n"
     ]
    }
   ],
   "source": [
    "print(depths_results)"
   ]
  },
  {
   "cell_type": "code",
   "execution_count": 82,
   "metadata": {},
   "outputs": [],
   "source": [
    "write_answer(str(2) + \" \" + str(3), 4)"
   ]
  },
  {
   "cell_type": "code",
   "execution_count": 90,
   "metadata": {},
   "outputs": [],
   "source": [
    "from sklearn.linear_model import LinearRegression"
   ]
  },
  {
   "cell_type": "code",
   "execution_count": 91,
   "metadata": {},
   "outputs": [
    {
     "name": "stdout",
     "output_type": "stream",
     "text": [
      "8.254979753549085\n"
     ]
    }
   ],
   "source": [
    "model = LinearRegression()\n",
    "model.fit(X_train, y_train)\n",
    "RMSE_4 = np.sqrt(mean_squared_error(y_test, model.predict(X_test)))\n",
    "print(RMSE_4)"
   ]
  },
  {
   "cell_type": "code",
   "execution_count": 92,
   "metadata": {},
   "outputs": [],
   "source": [
    "write_answer(RMSE_4, 5)"
   ]
  },
  {
   "cell_type": "code",
   "execution_count": 3,
   "metadata": {},
   "outputs": [],
   "source": [
    "arr = np.zeros(15)"
   ]
  },
  {
   "cell_type": "code",
   "execution_count": 4,
   "metadata": {},
   "outputs": [],
   "source": [
    "def set(arr, L, R, val):\n",
    "    for i in range(L, R):\n",
    "        arr[i] = val\n",
    "    return arr\n",
    "def get_sum(arr, L, R):\n",
    "    sum = 0\n",
    "    for i in range(L, R):\n",
    "        sum = sum + arr[L]\n",
    "    return sum\n",
    "def add(arr, L, R, val):\n",
    "    for i in range(L, R):\n",
    "        arr[i] = arr[i] + val\n",
    "    return arr"
   ]
  },
  {
   "cell_type": "code",
   "execution_count": 11,
   "metadata": {},
   "outputs": [
    {
     "name": "stdout",
     "output_type": "stream",
     "text": [
      "[ 0. -2. -2. -2. -2. -2. -2. -2. -2. -2. -2. -2. -2. -2. -2.]\n",
      "0.0 \n",
      "-8.0 \n",
      "3780.0 \n",
      "5064.0 \n"
     ]
    }
   ],
   "source": [
    "arr = np.zeros(15)\n",
    "arr = set(arr, 1, 15, -2)\n",
    "print(arr)\n",
    "arr = set(arr, 2, 4, 3)\n",
    "arr = set(arr, 6, 8, 1)\n",
    "arr = add(arr, 4, 10, get_sum(arr, 4, 10))\n",
    "arr = add(arr, 2, 9, get_sum(arr, 5, 13))\n",
    "arr = add(arr, 3, 14, -get_sum(arr, 4, 10))\n",
    "arr = add(arr, 10, 11, -get_sum(arr, 5, 13))\n",
    "print(str(get_sum(arr, 0, 15)) + \" \")\n",
    "print(str(get_sum(arr, 1, 5)) + \" \")\n",
    "print(str(get_sum(arr, 4, 10)) + \" \")\n",
    "print(str(get_sum(arr, 6, 14)) + \" \")"
   ]
  },
  {
   "cell_type": "code",
   "execution_count": null,
   "metadata": {},
   "outputs": [],
   "source": []
  },
  {
   "cell_type": "code",
   "execution_count": null,
   "metadata": {},
   "outputs": [],
   "source": []
  }
 ],
 "metadata": {
  "kernelspec": {
   "display_name": "Python 3",
   "language": "python",
   "name": "python3"
  },
  "language_info": {
   "codemirror_mode": {
    "name": "ipython",
    "version": 3
   },
   "file_extension": ".py",
   "mimetype": "text/x-python",
   "name": "python",
   "nbconvert_exporter": "python",
   "pygments_lexer": "ipython3",
   "version": "3.7.6"
  }
 },
 "nbformat": 4,
 "nbformat_minor": 4
}
