{
 "cells": [
  {
   "cell_type": "code",
   "execution_count": 6,
   "metadata": {},
   "outputs": [],
   "source": [
    "import numpy as np\n",
    "from sklearn import datasets"
   ]
  },
  {
   "cell_type": "code",
   "execution_count": 12,
   "metadata": {},
   "outputs": [],
   "source": [
    "digits = datasets.load_digits()"
   ]
  },
  {
   "cell_type": "code",
   "execution_count": 13,
   "metadata": {},
   "outputs": [],
   "source": [
    "from sklearn.model_selection import train_test_split"
   ]
  },
  {
   "cell_type": "code",
   "execution_count": 40,
   "metadata": {},
   "outputs": [],
   "source": [
    "digits_X = digits.data\n",
    "digits_y = digits.target\n",
    "X_train, X_test, y_train, y_test = train_test_split(digits_X, digits_y, test_size = 0.25, shuffle = False)"
   ]
  },
  {
   "cell_type": "code",
   "execution_count": 41,
   "metadata": {},
   "outputs": [],
   "source": [
    "def dist(x, y):\n",
    "    return np.linalg.norm(np.array(x) - np.array(y))"
   ]
  },
  {
   "cell_type": "code",
   "execution_count": 42,
   "metadata": {},
   "outputs": [],
   "source": [
    "def classify(obj):\n",
    "    d = dist(obj, X_train[0])\n",
    "    c = y_train[0]\n",
    "    for i, item in enumerate(X_train):\n",
    "        d_temp = dist(item, obj)\n",
    "        if d_temp < d: \n",
    "            d = d_temp\n",
    "            c = y_train[i]\n",
    "            continue\n",
    "        if d_temp == d:\n",
    "            if y_train[i] < c:\n",
    "                c = y_train[i]\n",
    "    return c"
   ]
  },
  {
   "cell_type": "code",
   "execution_count": 43,
   "metadata": {},
   "outputs": [
    {
     "name": "stdout",
     "output_type": "stream",
     "text": [
      "450\n",
      "Classified =  6 \n",
      "True =  5\n",
      "Classified =  9 \n",
      "True =  8\n",
      "Classified =  1 \n",
      "True =  8\n",
      "Classified =  1 \n",
      "True =  8\n",
      "Classified =  5 \n",
      "True =  9\n",
      "Classified =  7 \n",
      "True =  3\n",
      "Classified =  8 \n",
      "True =  3\n",
      "Classified =  9 \n",
      "True =  4\n",
      "Classified =  9 \n",
      "True =  4\n",
      "Classified =  9 \n",
      "True =  3\n",
      "Classified =  3 \n",
      "True =  9\n",
      "Classified =  9 \n",
      "True =  4\n",
      "Classified =  5 \n",
      "True =  9\n",
      "Classified =  5 \n",
      "True =  3\n",
      "Classified =  8 \n",
      "True =  3\n",
      "Classified =  5 \n",
      "True =  3\n",
      "Classified =  1 \n",
      "True =  8\n",
      "17\n",
      "0.03777777777777778\n"
     ]
    }
   ],
   "source": [
    "norm = len(X_test)\n",
    "print(norm)\n",
    "sum = 0\n",
    "for  i, item in enumerate(X_test):\n",
    "    c = classify(item)\n",
    "    if c != y_test[i]: \n",
    "        sum = sum + 1\n",
    "        print(\"Classified = \", c, \"\\nTrue = \", y_test[i])\n",
    "print(sum)\n",
    "sum = sum/norm\n",
    "print(sum)"
   ]
  },
  {
   "cell_type": "code",
   "execution_count": 44,
   "metadata": {},
   "outputs": [],
   "source": [
    "def write_answer(ans, num):\n",
    "    with open(\"an_\" + str(num), \"w\") as f:\n",
    "        f.write(str(ans))"
   ]
  },
  {
   "cell_type": "code",
   "execution_count": 45,
   "metadata": {},
   "outputs": [],
   "source": [
    "write_answer(sum, 1)"
   ]
  },
  {
   "cell_type": "code",
   "execution_count": 48,
   "metadata": {},
   "outputs": [],
   "source": [
    "from sklearn.ensemble import RandomForestClassifier"
   ]
  },
  {
   "cell_type": "code",
   "execution_count": 53,
   "metadata": {},
   "outputs": [
    {
     "data": {
      "text/plain": [
       "RandomForestClassifier(bootstrap=True, ccp_alpha=0.0, class_weight=None,\n",
       "                       criterion='gini', max_depth=None, max_features='auto',\n",
       "                       max_leaf_nodes=None, max_samples=None,\n",
       "                       min_impurity_decrease=0.0, min_impurity_split=None,\n",
       "                       min_samples_leaf=1, min_samples_split=2,\n",
       "                       min_weight_fraction_leaf=0.0, n_estimators=1000,\n",
       "                       n_jobs=None, oob_score=False, random_state=None,\n",
       "                       verbose=0, warm_start=False)"
      ]
     },
     "execution_count": 53,
     "metadata": {},
     "output_type": "execute_result"
    }
   ],
   "source": [
    "estimator = RandomForestClassifier(1000)\n",
    "estimator.fit(X_train, y_train)"
   ]
  },
  {
   "cell_type": "code",
   "execution_count": 56,
   "metadata": {},
   "outputs": [
    {
     "name": "stdout",
     "output_type": "stream",
     "text": [
      "Classified =  [6] \n",
      "True =  5\n",
      "Classified =  [9] \n",
      "True =  8\n",
      "Classified =  [9] \n",
      "True =  1\n",
      "Classified =  [9] \n",
      "True =  1\n",
      "Classified =  [9] \n",
      "True =  1\n",
      "Classified =  [9] \n",
      "True =  1\n",
      "Classified =  [9] \n",
      "True =  1\n",
      "Classified =  [1] \n",
      "True =  8\n",
      "Classified =  [4] \n",
      "True =  0\n",
      "Classified =  [4] \n",
      "True =  8\n",
      "Classified =  [5] \n",
      "True =  9\n",
      "Classified =  [0] \n",
      "True =  2\n",
      "Classified =  [8] \n",
      "True =  3\n",
      "Classified =  [7] \n",
      "True =  3\n",
      "Classified =  [8] \n",
      "True =  3\n",
      "Classified =  [7] \n",
      "True =  4\n",
      "Classified =  [7] \n",
      "True =  4\n",
      "Classified =  [3] \n",
      "True =  9\n",
      "Classified =  [7] \n",
      "True =  4\n",
      "Classified =  [5] \n",
      "True =  9\n",
      "Classified =  [7] \n",
      "True =  8\n",
      "Classified =  [8] \n",
      "True =  3\n",
      "Classified =  [8] \n",
      "True =  3\n",
      "Classified =  [8] \n",
      "True =  3\n",
      "Classified =  [8] \n",
      "True =  3\n",
      "Classified =  [5] \n",
      "True =  3\n",
      "Classified =  [8] \n",
      "True =  3\n",
      "Classified =  [5] \n",
      "True =  3\n",
      "Classified =  [1] \n",
      "True =  8\n",
      "0.06444444444444444\n"
     ]
    }
   ],
   "source": [
    "norm = len(X_test)\n",
    "sum = 0\n",
    "for  i, item in enumerate(X_test):\n",
    "    c = estimator.predict([item])\n",
    "    if c[0] != y_test[i]: \n",
    "        sum = sum + 1\n",
    "        print(\"Classified = \", c, \"\\nTrue = \", y_test[i])\n",
    "sum = sum/norm\n",
    "print(sum)"
   ]
  },
  {
   "cell_type": "code",
   "execution_count": 58,
   "metadata": {},
   "outputs": [],
   "source": [
    "write_answer(sum, 2)"
   ]
  },
  {
   "cell_type": "code",
   "execution_count": null,
   "metadata": {},
   "outputs": [],
   "source": []
  }
 ],
 "metadata": {
  "kernelspec": {
   "display_name": "Python 3",
   "language": "python",
   "name": "python3"
  },
  "language_info": {
   "codemirror_mode": {
    "name": "ipython",
    "version": 3
   },
   "file_extension": ".py",
   "mimetype": "text/x-python",
   "name": "python",
   "nbconvert_exporter": "python",
   "pygments_lexer": "ipython3",
   "version": "3.7.6"
  }
 },
 "nbformat": 4,
 "nbformat_minor": 4
}
